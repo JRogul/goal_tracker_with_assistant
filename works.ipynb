{
 "cells": [
  {
   "cell_type": "code",
   "execution_count": 1,
   "metadata": {},
   "outputs": [],
   "source": [
    "from sqlalchemy import create_engine\n",
    "import psycopg2\n",
    "from src.app.database.database_connection import *"
   ]
  },
  {
   "cell_type": "code",
   "execution_count": 2,
   "metadata": {},
   "outputs": [
    {
     "data": {
      "text/plain": [
       "[(1, 'Write your goal', 'Add addictional text')]"
      ]
     },
     "execution_count": 2,
     "metadata": {},
     "output_type": "execute_result"
    }
   ],
   "source": [
    "select_task(1)"
   ]
  },
  {
   "cell_type": "code",
   "execution_count": 4,
   "metadata": {},
   "outputs": [
    {
     "name": "stdout",
     "output_type": "stream",
     "text": [
      "('zadanie1', 'opis1', None)\n"
     ]
    }
   ],
   "source": [
    "for row in get_task_list():\n",
    "    print(row)\n",
    "    break"
   ]
  },
  {
   "cell_type": "code",
   "execution_count": 3,
   "metadata": {},
   "outputs": [
    {
     "ename": "NameError",
     "evalue": "name 'id_to_delete' is not defined",
     "output_type": "error",
     "traceback": [
      "\u001b[1;31m---------------------------------------------------------------------------\u001b[0m",
      "\u001b[1;31mNameError\u001b[0m                                 Traceback (most recent call last)",
      "Cell \u001b[1;32mIn[3], line 4\u001b[0m\n\u001b[0;32m      1\u001b[0m connection \u001b[38;5;241m=\u001b[39m connect_to_database()\n\u001b[0;32m      3\u001b[0m cursor \u001b[38;5;241m=\u001b[39m connection\u001b[38;5;241m.\u001b[39mcursor()\n\u001b[1;32m----> 4\u001b[0m cursor\u001b[38;5;241m.\u001b[39mexecute(\u001b[38;5;124m'''\u001b[39m\u001b[38;5;124mDELETE FROM public.\u001b[39m\u001b[38;5;124m\"\u001b[39m\u001b[38;5;124mTasks\u001b[39m\u001b[38;5;124m\"\u001b[39m\u001b[38;5;124m WHERE id = \u001b[39m\u001b[38;5;132;01m%s\u001b[39;00m\u001b[38;5;124m'''\u001b[39m, (\u001b[43mid_to_delete\u001b[49m))\n\u001b[0;32m      5\u001b[0m connection\u001b[38;5;241m.\u001b[39mcommit()\n\u001b[0;32m      6\u001b[0m connection\u001b[38;5;241m.\u001b[39mclose()\n",
      "\u001b[1;31mNameError\u001b[0m: name 'id_to_delete' is not defined"
     ]
    }
   ],
   "source": [
    "connection = connect_to_database()\n",
    "\n",
    "cursor = connection.cursor()\n",
    "cursor.execute('''DELETE FROM public.\"Tasks\" WHERE id = %s''', (id_to_delete))\n",
    "connection.commit()\n",
    "connection.close()"
   ]
  },
  {
   "cell_type": "code",
   "execution_count": 50,
   "metadata": {},
   "outputs": [],
   "source": [
    "\n",
    "connection = psycopg2.connect(user=user, password=password,\n",
    "                              host=host, port=port,\n",
    "                              database=database)\n",
    "cursor = connection.cursor()\n",
    "cursor.execute('''INSERT INTO public.\"Tasks\" (title, description) VALUES (%s, %s)''', \n",
    "                (\"zadanie1\", \"opis1\"))\n",
    "connection.commit()\n",
    "connection.close()"
   ]
  },
  {
   "cell_type": "code",
   "execution_count": null,
   "metadata": {},
   "outputs": [],
   "source": [
    "def insert_task_to_database(title, description):\n",
    "    user = 'postgres'\n",
    "    password = 'passwrd'\n",
    "    host = 'localhost'\n",
    "    port = '5432'\n",
    "    database = 'postgres'\n",
    "    connection = psycopg2.connect(user=user, password=password,\n",
    "                              host=host, port=port,\n",
    "                              database=database)\n",
    "    cursor = connection.cursor()\n",
    "    cursor.execute('''INSERT INTO public.\"Tasks\" (title, description) VALUES (%s, %s)''', \n",
    "                    (title, description))\n",
    "    connection.commit()\n",
    "    connection.close()"
   ]
  }
 ],
 "metadata": {
  "kernelspec": {
   "display_name": "Python 3",
   "language": "python",
   "name": "python3"
  },
  "language_info": {
   "codemirror_mode": {
    "name": "ipython",
    "version": 3
   },
   "file_extension": ".py",
   "mimetype": "text/x-python",
   "name": "python",
   "nbconvert_exporter": "python",
   "pygments_lexer": "ipython3",
   "version": "3.11.7"
  }
 },
 "nbformat": 4,
 "nbformat_minor": 2
}
