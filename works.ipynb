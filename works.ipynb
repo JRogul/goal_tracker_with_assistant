{
 "cells": [
  {
   "cell_type": "code",
   "execution_count": 43,
   "metadata": {},
   "outputs": [],
   "source": [
    "from sqlalchemy import create_engine\n",
    "import psycopg2\n"
   ]
  },
  {
   "cell_type": "code",
   "execution_count": 50,
   "metadata": {},
   "outputs": [],
   "source": [
    "\n",
    "connection = psycopg2.connect(user=user, password=password,\n",
    "                              host=host, port=port,\n",
    "                              database=database)\n",
    "cursor = connection.cursor()\n",
    "cursor.execute('''INSERT INTO public.\"Tasks\" (title, description) VALUES (%s, %s)''', \n",
    "                (\"zadanie1\", \"opis1\"))\n",
    "connection.commit()\n",
    "connection.close()"
   ]
  },
  {
   "cell_type": "code",
   "execution_count": null,
   "metadata": {},
   "outputs": [],
   "source": [
    "def insert_task_to_database(title, description):\n",
    "    user = 'postgres'\n",
    "    password = 'passwrd'\n",
    "    host = 'localhost'\n",
    "    port = '5432'\n",
    "    database = 'postgres'\n",
    "    connection = psycopg2.connect(user=user, password=password,\n",
    "                              host=host, port=port,\n",
    "                              database=database)\n",
    "    cursor = connection.cursor()\n",
    "    cursor.execute('''INSERT INTO public.\"Tasks\" (title, description) VALUES (%s, %s)''', \n",
    "                    (title, description))\n",
    "    connection.commit()\n",
    "    connection.close()"
   ]
  }
 ],
 "metadata": {
  "kernelspec": {
   "display_name": "Python 3",
   "language": "python",
   "name": "python3"
  },
  "language_info": {
   "codemirror_mode": {
    "name": "ipython",
    "version": 3
   },
   "file_extension": ".py",
   "mimetype": "text/x-python",
   "name": "python",
   "nbconvert_exporter": "python",
   "pygments_lexer": "ipython3",
   "version": "3.11.7"
  }
 },
 "nbformat": 4,
 "nbformat_minor": 2
}
